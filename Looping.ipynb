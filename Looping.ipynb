{
 "cells": [
  {
   "cell_type": "code",
   "execution_count": null,
   "id": "28c1211b",
   "metadata": {},
   "outputs": [],
   "source": [
    "#Mencetak angka 1-10\n",
    "for i in range(1,11):\n",
    "    print(i, end=\" \")"
   ]
  },
  {
   "cell_type": "code",
   "execution_count": null,
   "id": "6164fe27",
   "metadata": {},
   "outputs": [],
   "source": [
    "#Mencetak angka 10 20 30 ... 100\n",
    "for i in range(10,101,10):\n",
    "    print(i, end  =\" \")"
   ]
  },
  {
   "cell_type": "code",
   "execution_count": null,
   "id": "53ee7cb3",
   "metadata": {},
   "outputs": [],
   "source": [
    "#Mencetak angka 10 20 30 ... 100\n",
    "for i in range(1,11):\n",
    "    print(i * 10, end =\" \")"
   ]
  },
  {
   "cell_type": "code",
   "execution_count": null,
   "id": "59d33627",
   "metadata": {},
   "outputs": [],
   "source": [
    "#Mencetak angka 10 9 8 7 ... 1\n",
    "for i in range(1,11):\n",
    "    print(11 - i, end=\" \")"
   ]
  },
  {
   "cell_type": "code",
   "execution_count": null,
   "id": "91691d51",
   "metadata": {},
   "outputs": [],
   "source": [
    "for i in range(10,0,-1):\n",
    "    print(i, end=\" \")"
   ]
  },
  {
   "cell_type": "code",
   "execution_count": null,
   "id": "ada7c195",
   "metadata": {},
   "outputs": [],
   "source": [
    "#Mencetak angka 1 -2 3 -4 5 -6 ... 10\n",
    "sign = -1\n",
    "for i in range(1,11):\n",
    "    sign = sign * -1\n",
    "    print(i*sign, end =\" \")"
   ]
  },
  {
   "cell_type": "code",
   "execution_count": null,
   "id": "214a54a3",
   "metadata": {},
   "outputs": [],
   "source": [
    "#Mencari bilangan faktorial\n",
    "# input - 3, output - 3 * 2 * 1 = 6\n",
    "# input - 4, output - 4 * 3 * 2 * 1 = 24\n",
    "\n",
    "bil = int(input('Isikan bilangan : '))\n",
    "\n",
    "hasil = 1\n",
    "label=\"\"\n",
    "\n",
    "for i in range(1, bil+1):\n",
    "    hasil = hasil * i\n",
    "    if i < bil:\n",
    "        label = label + str((bil+1) - i) + \" * \"\n",
    "    else:\n",
    "        label = label + str((bil+1) - i)\n",
    "        \n",
    "print(f\"{bil}! adalah {hasil}\")\n",
    "print(f\"{label} = {hasil}\")"
   ]
  },
  {
   "cell_type": "code",
   "execution_count": null,
   "id": "93fb34ec",
   "metadata": {},
   "outputs": [],
   "source": [
    "#Mencari bilangan pangkat\n",
    "\n",
    "bil = int(input('Isikan bilangan : '))\n",
    "pangkat = int(input('Isikan pangkat : '))\n",
    "\n",
    "hasil = 1\n",
    "\n",
    "for i in range(1, pangkat+1):\n",
    "    hasil *= bil\n",
    "        \n",
    "print(f\"{bil} pangkat {pangkat} adalah {hasil}\")"
   ]
  },
  {
   "cell_type": "code",
   "execution_count": null,
   "id": "2887b31e",
   "metadata": {},
   "outputs": [],
   "source": [
    "#Mengecek bilangan prima atau bukan\n",
    "#Bil, prima adalah bilangan yang hanya habis dibagi dengan 1 dan bilangan itu sendiri => 2 faktor\n",
    "\n",
    "bil = int(input('Isikan bilangan : '))\n",
    "jumlah = 0\n",
    "for i in range(1, bil + 1):\n",
    "    sisa = bil % i\n",
    "    if sisa == 0:\n",
    "        jumlah = jumlah + 1\n",
    "    \n",
    "if jumlah == 2:\n",
    "    print(f\"{bil} adalah bilangan PRIMA\")\n",
    "else:\n",
    "    print(f\"{bil} adalah bukan bilangan PRIMA\")"
   ]
  },
  {
   "cell_type": "code",
   "execution_count": null,
   "id": "8e76ec95",
   "metadata": {},
   "outputs": [],
   "source": [
    "bil = int(input('Isikan bilangan : '))\n",
    "keterangan = \"bilangan PRIMA\"\n",
    "jumlah = 0\n",
    "for i in range(2, bil):\n",
    "    sisa = bil % i\n",
    "    if sisa == 0:\n",
    "        keterangan = \"bukan bilangan PRIMA\"\n",
    "        break\n",
    "        \n",
    "print(f\"{bil} adalah {keterangan}\")"
   ]
  },
  {
   "cell_type": "code",
   "execution_count": null,
   "id": "4344d681",
   "metadata": {},
   "outputs": [],
   "source": [
    "#Break dan continue\n",
    "\n",
    "for i in range(1,100):\n",
    "    print(i, end = \" \")\n",
    "    if i==5:\n",
    "        break\n",
    "print()\n",
    "\n",
    "for j in range(1,10):\n",
    "    if j==5:\n",
    "        continue\n",
    "    print(j, end = \" \")"
   ]
  },
  {
   "cell_type": "code",
   "execution_count": null,
   "id": "10d0b655",
   "metadata": {},
   "outputs": [],
   "source": [
    "#Looping untuk string, menghitung huruf vokal \n",
    "kalimat = input(\"Isikan Kalimat : \")\n",
    "vokal_a = 0\n",
    "for i in kalimat:\n",
    "    if i=='a':\n",
    "        vokal_a += 1\n",
    "print(f\"Jumlah huruf a : {vokal_a}\")"
   ]
  },
  {
   "cell_type": "code",
   "execution_count": null,
   "id": "d8544ff6",
   "metadata": {},
   "outputs": [],
   "source": [
    "#Kalimat ppalindrome atau bukan\n",
    "#kotak => palindrome\n",
    "#kasur rusak\n",
    "\n",
    "kalimat = input('Isikan kalimat : ')\n",
    "panjang = len(kalimat)\n",
    "keterangan = \"PALINDROME\"\n",
    "for i in range(0, panjang):\n",
    "    kika = kalimat [i].lower()\n",
    "    kaki = kalimat [panjang - i-1]\n",
    "    if kika != kaki:\n",
    "        keterangan = \"BUKAN PALINDROME\"\n",
    "        break\n",
    "    print(f\"{keterangan}\")\n",
    "    ulang = input(\"Apakah mau mengulang program(Y/N)?:\")"
   ]
  },
  {
   "cell_type": "code",
   "execution_count": null,
   "id": "e329d79e",
   "metadata": {},
   "outputs": [],
   "source": []
  }
 ],
 "metadata": {
  "kernelspec": {
   "display_name": "Python 3 (ipykernel)",
   "language": "python",
   "name": "python3"
  },
  "language_info": {
   "codemirror_mode": {
    "name": "ipython",
    "version": 3
   },
   "file_extension": ".py",
   "mimetype": "text/x-python",
   "name": "python",
   "nbconvert_exporter": "python",
   "pygments_lexer": "ipython3",
   "version": "3.9.12"
  }
 },
 "nbformat": 4,
 "nbformat_minor": 5
}
